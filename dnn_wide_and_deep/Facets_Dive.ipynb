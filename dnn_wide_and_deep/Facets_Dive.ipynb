{
 "cells": [
  {
   "cell_type": "code",
   "execution_count": null,
   "metadata": {},
   "outputs": [],
   "source": [
    "# Load UCI census and convert to json for sending to the visualization\n",
    "import pandas as pd\n",
    "features = []\n",
    "\n",
    "# Load dataframe from external CSV and add header information\n",
    "df = pd.read_csv(\"data/eval2.csv\",\n",
    "    names=features, # name features for header row\n",
    "    sep=r',', # separator used in this dataset\n",
    "    engine='python',\n",
    "    skiprows=[0], # skip first row without data \n",
    "    na_values=\"?\") # add ? where data is missing\n",
    "\n",
    "# set the sprite_size based on the number of records in dataset,\n",
    "# larger datasets can crash the browser if the size is too large (>50000)\n",
    "sprite_size = 32 if len(df.index)>50000 else 96\n",
    "print(df.shape)\n",
    "jsonstr = df.to_json(orient='records')"
   ]
  },
  {
   "cell_type": "code",
   "execution_count": null,
   "metadata": {},
   "outputs": [],
   "source": [
    "\n",
    "# Display the Dive visualization for this data\n",
    "from IPython.core.display import display, HTML\n",
    "\n",
    "# Create Facets template  \n",
    "HTML_TEMPLATE = \"\"\"<link rel=\"import\" href=\"/nbextensions/facets-dist/facets-jupyter.html\">\n",
    "        <facets-dive sprite-image-width=\"{sprite_size}\" sprite-image-height=\"{sprite_size}\" id=\"elem\" height=\"600\"></facets-dive>\n",
    "        <script>\n",
    "          document.querySelector(\"#elem\").data = {jsonstr};\n",
    "        </script>\"\"\"\n",
    "\n",
    "# Load the json dataset and the sprite_size into the template\n",
    "html = HTML_TEMPLATE.format(jsonstr=jsonstr, sprite_size=sprite_size)\n",
    "\n",
    "# Display the template\n",
    "display(HTML(html))"
   ]
  },
  {
   "cell_type": "code",
   "execution_count": null,
   "metadata": {},
   "outputs": [],
   "source": []
  }
 ],
 "metadata": {
  "kernelspec": {
   "display_name": "Python 2",
   "language": "python",
   "name": "python2"
  },
  "language_info": {
   "codemirror_mode": {
    "name": "ipython",
    "version": 2
   },
   "file_extension": ".py",
   "mimetype": "text/x-python",
   "name": "python",
   "nbconvert_exporter": "python",
   "pygments_lexer": "ipython2",
   "version": "2.7.14"
  }
 },
 "nbformat": 4,
 "nbformat_minor": 2
}
