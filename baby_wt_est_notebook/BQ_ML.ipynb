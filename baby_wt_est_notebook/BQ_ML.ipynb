{
 "cells": [
  {
   "cell_type": "markdown",
   "metadata": {},
   "source": [
    "### Average Weight as a Baseline Estimator"
   ]
  },
  {
   "cell_type": "code",
   "execution_count": null,
   "metadata": {},
   "outputs": [],
   "source": [
    "import numpy as np\n",
    "\n",
    "avg_weight = data.weight_pounds.mean()\n",
    "print(\"Average Weight: {}\".format(round(avg_weight,3)))\n",
    "rmse = np.sqrt(data.weight_pounds.map(lambda value: (value-avg_weight)**2).mean())\n",
    "print(\"RMSE: {}\".format(round(rmse,3)))"
   ]
  },
  {
   "cell_type": "markdown",
   "metadata": {},
   "source": [
    "## Linear Regression with BigQuery"
   ]
  },
  {
   "cell_type": "markdown",
   "metadata": {},
   "source": [
    "### BQML Step 1: Create BigQuery dataset for ML models"
   ]
  },
  {
   "cell_type": "code",
   "execution_count": null,
   "metadata": {},
   "outputs": [],
   "source": [
    "from google.cloud import bigquery\n",
    "\n",
    "BQML_DATASET = 'bqml'\n",
    "BQML_ESTOMATPR_NAME = 'babyweight_estimator'\n",
    "BQML_DATASET_LOCATION = 'US'\n",
    "\n",
    "bq_client = bigquery.Client(PROJECT)\n",
    "dataset_ref = bq_client.dataset(BQML_DATASET)\n",
    "\n",
    "dataset = bigquery.Dataset(dataset_ref)\n",
    "\n",
    "\n",
    "if BQML_DATASET in list(map(lambda dataset: dataset.dataset_id,bq_client.list_datasets())):\n",
    "    print('Deleting BQ Dataset {}...'.format(BQML_DATASET))\n",
    "    bq_client.delete_dataset(dataset=dataset, delete_contents=True)\n",
    "    \n",
    "print('Creating BQ Dataset {}...'.format(BQML_DATASET))\n",
    "dataset.location = BQML_DATASET_LOCATION\n",
    "bq_client.create_dataset(dataset=dataset)\n",
    "\n",
    "print('BQ Dataset {} is up and running'.format(BQML_DATASET))\n",
    "print(\"\")"
   ]
  },
  {
   "cell_type": "markdown",
   "metadata": {},
   "source": [
    "### BQML Step 2: Create and train the Linear Regression Model"
   ]
  },
  {
   "cell_type": "code",
   "execution_count": null,
   "metadata": {},
   "outputs": [],
   "source": [
    "from datetime import datetime\n",
    "import time\n",
    "\n",
    "bqml_train_query = (\n",
    "'''\n",
    "CREATE MODEL {}.{} \n",
    "  OPTIONS( model_type='linear_reg',   labels=['weight_pounds'],\n",
    "    max_iteration=1000,\n",
    "    learn_rate=0.1, \n",
    "    learn_rate_strategy='constant',\n",
    "    eval_split_method='random',\n",
    "    eval_split_fraction=0.2,\n",
    "    early_stop=True,\n",
    "    l1_reg=0.001\n",
    "  ) AS\n",
    "SELECT\n",
    "  ROUND(weight_pounds,1) AS weight_pounds,\n",
    "  COALESCE(CAST(is_male AS STRING),'NA') is_male,\n",
    "  mother_age,\n",
    "  COALESCE(CAST(mother_race AS STRING),'NA') mother_race,\n",
    "  plurality,\n",
    "  gestation_weeks,\n",
    "  mother_married,\n",
    "  COALESCE(CAST(cigarette_use AS STRING),'NA') cigarette_use,\n",
    "  COALESCE(CAST(alcohol_use AS STRING),'NA') alcohol_use\n",
    "FROM\n",
    "  publicdata.samples.natality\n",
    "WHERE\n",
    "  year = 2000\n",
    "  AND weight_pounds > 0\n",
    "  AND mother_age > 0\n",
    "  AND plurality > 0\n",
    "  AND gestation_weeks > 0\n",
    "  AND month > 0\n",
    "LIMIT\n",
    "  10000;\n",
    "'''.format(BQML_DATASET, BQML_ESTIMATOR_NAME)\n",
    ")\n",
    "\n",
    "#print bqml_train_query\n",
    "\n",
    "time_start = datetime.utcnow() \n",
    "print(\"Training started at {}\".format(time_start.strftime(\"%H:%M:%S\")))\n",
    "print(\".......................................\") \n",
    "\n",
    "query_job = bq_client.query(\n",
    "    query=bqml_train_query,\n",
    "    location=BQML_DATASET_LOCATION\n",
    ") \n",
    "print \"Status: {}\".format(query_job.state)\n",
    "\n",
    "try:\n",
    "    results = query_job.result()\n",
    "    print results\n",
    "except:\n",
    "    pass\n",
    "\n",
    "print \"Status: {}\".format(query_job.state)\n",
    "time_end = datetime.utcnow() \n",
    "print(\".......................................\")\n",
    "print(\"Training finished at {}\".format(time_end.strftime(\"%H:%M:%S\")))\n",
    "print(\"\")\n",
    "time_elapsed = time_end - time_start\n",
    "print(\"Training elapsed time: {} seconds\".format(time_elapsed.total_seconds()))"
   ]
  },
  {
   "cell_type": "markdown",
   "metadata": {},
   "source": [
    "### BQML Step 3: Get Predictions using the Linear Regression Model"
   ]
  },
  {
   "cell_type": "code",
   "execution_count": null,
   "metadata": {},
   "outputs": [],
   "source": [
    "from datetime import datetime\n",
    "import time\n",
    "\n",
    "bqml_predict_query = (\n",
    "'''\n",
    "SELECT \n",
    "    ROUND(predicted_weight_pounds,1) estimated_weight,\n",
    "    weight_pounds\n",
    "FROM ml.PREDICT(\n",
    "  MODEL {}.{}, \n",
    "  (\n",
    "      SELECT\n",
    "          ROUND(weight_pounds,1) AS weight_pounds,\n",
    "          COALESCE(CAST(is_male AS STRING),'NA') is_male,\n",
    "          mother_age,\n",
    "          COALESCE(CAST(mother_race AS STRING),'NA') mother_race,\n",
    "          plurality,\n",
    "          gestation_weeks,\n",
    "          mother_married,\n",
    "          COALESCE(CAST(cigarette_use AS STRING),'NA') cigarette_use,\n",
    "          COALESCE(CAST(alcohol_use AS STRING),'NA') alcohol_use\n",
    "      FROM\n",
    "        publicdata.samples.natality\n",
    "      WHERE\n",
    "        year = 2000\n",
    "        AND weight_pounds > 0\n",
    "        AND mother_age > 0\n",
    "        AND plurality > 0\n",
    "        AND gestation_weeks > 0\n",
    "          AND month > 0\n",
    "     LIMIT 10\n",
    "   )\n",
    ");\n",
    "\n",
    "'''.format(BQML_DATASET, BQML_ESTOMATPR_NAME)\n",
    ")\n",
    "\n",
    "#print bqml_predict_query\n",
    "\n",
    "query_job = bq_client.query(\n",
    "    query=bqml_predict_query,\n",
    "    location=BQML_DATASET_LOCATION\n",
    ") \n",
    "print \"Status: {}\".format(query_job.state)\n",
    "\n",
    "results = query_job.result()\n",
    "for row in results:\n",
    "    print(\"Predicted:{},  Actual: {}\".format(row.estimated_weight, row.weight_pounds))\n",
    "\n",
    "print \"Status: {}\".format(query_job.state)\n"
   ]
  },
  {
   "cell_type": "code",
   "execution_count": null,
   "metadata": {},
   "outputs": [],
   "source": []
  }
 ],
 "metadata": {
  "kernelspec": {
   "display_name": "Python 2",
   "language": "python",
   "name": "python2"
  },
  "language_info": {
   "codemirror_mode": {
    "name": "ipython",
    "version": 2
   },
   "file_extension": ".py",
   "mimetype": "text/x-python",
   "name": "python",
   "nbconvert_exporter": "python",
   "pygments_lexer": "ipython2",
   "version": "2.7.14"
  }
 },
 "nbformat": 4,
 "nbformat_minor": 2
}
