{
 "cells": [
  {
   "cell_type": "markdown",
   "metadata": {},
   "source": [
    "## 5. Evaluate the model using TFMA"
   ]
  },
  {
   "cell_type": "code",
   "execution_count": null,
   "metadata": {},
   "outputs": [],
   "source": [
    "import tensorflow_model_analysis as tfma"
   ]
  },
  {
   "cell_type": "markdown",
   "metadata": {},
   "source": [
    "### 5.1 Evaluate input function"
   ]
  },
  {
   "cell_type": "code",
   "execution_count": null,
   "metadata": {},
   "outputs": [],
   "source": [
    "def generate_eval_receiver_fn(transform_artefacts_dir):\n",
    "    \n",
    "    transformed_metadata = metadata_io.read_metadata(transform_artefacts_dir+\"/transformed_metadata\")\n",
    "    transformed_feature_spec = transformed_metadata.schema.as_feature_spec()\n",
    "    \n",
    "    def _eval_receiver_fn():\n",
    "        \n",
    "        serialized_tf_example = tf.placeholder(\n",
    "            dtype=tf.string, shape=[None], name='input_example_placeholder')\n",
    "\n",
    "        receiver_tensors = {'examples': serialized_tf_example}\n",
    "        transformed_features = tf.parse_example(serialized_tf_example, transformed_feature_spec)\n",
    "\n",
    "        return tfma.export.EvalInputReceiver(\n",
    "            features=transformed_features,\n",
    "            receiver_tensors=receiver_tensors,\n",
    "            labels=transformed_features[TARGET_FEATURE_NAME])\n",
    "\n",
    "    return _eval_receiver_fn"
   ]
  },
  {
   "cell_type": "markdown",
   "metadata": {},
   "source": [
    "### 5.2 Export Evaluation Saved Model"
   ]
  },
  {
   "cell_type": "code",
   "execution_count": null,
   "metadata": {},
   "outputs": [],
   "source": [
    "eval_model_dir = model_dir +\"/export/evaluate\"\n",
    "\n",
    "transform_artefacts_dir = os.path.join(local_models_dir,TRANSFORM_ARTEFACTS_DIR)\n",
    "\n",
    "tfma.export.export_eval_savedmodel(\n",
    "        estimator=dnn_estimator,\n",
    "        export_dir_base=eval_model_dir,\n",
    "        eval_input_receiver_fn=generate_eval_receiver_fn(transform_artefacts_dir)\n",
    ")"
   ]
  },
  {
   "cell_type": "markdown",
   "metadata": {},
   "source": [
    "### 5.3 Produce Evaluation Results using the Saved Model"
   ]
  },
  {
   "cell_type": "code",
   "execution_count": null,
   "metadata": {},
   "outputs": [],
   "source": [
    "slice_spec = [tfma.SingleSliceSpec()]\n",
    "for feature_name, feature_spec in transformed_feature_spec.items():\n",
    "    if feature_name not in [KEY_COLUMN] + [TARGET_FEATURE_NAME] and feature_spec.dtype == tf.string:\n",
    "        slice_spec += [tfma.SingleSliceSpec(columns=[feature_name])]\n",
    "\n",
    "print slice_spec\n",
    "print \"\"\n",
    "\n",
    "saved_model_base_dir=os.path.join(model_dir,'export/evaluate')\n",
    "model_location=os.path.join(saved_model_base_dir, os.listdir(saved_model_base_dir)[0])\n",
    "data_location = os.path.join(local_data_dir, TRANSFORMED_DATA_DIR)+\"/eval-*.tfrecords\"\n",
    "\n",
    "tf.logging.set_verbosity(tf.logging.ERROR)\n",
    "\n",
    "eval_results = tfma.run_model_analysis(\n",
    "    model_location=model_location , \n",
    "    data_location=data_location, \n",
    "    file_format='tfrecords', \n",
    "    slice_spec=slice_spec, \n",
    "#     output_path=None\n",
    ")\n",
    "\n",
    "print \"Evaluation results are ready!\""
   ]
  },
  {
   "cell_type": "markdown",
   "metadata": {},
   "source": [
    "### 5.4 Visualise the Results"
   ]
  },
  {
   "cell_type": "code",
   "execution_count": null,
   "metadata": {},
   "outputs": [],
   "source": [
    "print eval_results.slicing_metrics"
   ]
  },
  {
   "cell_type": "code",
   "execution_count": null,
   "metadata": {},
   "outputs": [],
   "source": [
    "tfma.view.render_slicing_metrics(\n",
    "        eval_results, \n",
    "    slicing_column='mother_race'\n",
    ")"
   ]
  },
  {
   "cell_type": "code",
   "execution_count": null,
   "metadata": {},
   "outputs": [],
   "source": []
  }
 ],
 "metadata": {
  "kernelspec": {
   "display_name": "Python 2",
   "language": "python",
   "name": "python2"
  },
  "language_info": {
   "codemirror_mode": {
    "name": "ipython",
    "version": 2
   },
   "file_extension": ".py",
   "mimetype": "text/x-python",
   "name": "python",
   "nbconvert_exporter": "python",
   "pygments_lexer": "ipython2",
   "version": "2.7.10"
  }
 },
 "nbformat": 4,
 "nbformat_minor": 2
}
