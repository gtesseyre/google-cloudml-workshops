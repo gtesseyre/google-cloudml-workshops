{
 "cells": [
  {
   "cell_type": "markdown",
   "metadata": {},
   "source": [
    "# ML with Structured Data using Google Cloud\n",
    "\n",
    "This tutorial is adapted from [this awesome tutorial](https://docs.google.com/presentation/d/e/2PACX-1vR-d6ztE9pkRS1L0pKInaaGMsBf7d_bMETr3Mx0uFYng2Y22zexg0ZaPRWbmmc497EMBeRgg8xvLLfI/pub?start=false&loop=false&delayms=3000&slide=id.g3444070087_0_0) created by **Lak Lakshmanan** for end-to-end ML with TensorFlow on GCP, which includes the original [codelabs](https://codelabs.developers.google.com/codelabs/end-to-end-ml/#0). It extends on original one by covering: Facets, BQML, TFT, and TFMA.\n",
    "\n",
    "This notebook illustrates:\n",
    "\n",
    "1. Exploring a BigQuery dataset using Datalab & Facets\n",
    "2. Linear Regression with BQML\n",
    "3. Creating datasets for Machine Learning using Dataflow & tf.Transform\n",
    "4. Creating a model using the high-level Estimator API \n",
    "5. Evaluate model quality using TensorFlow Model Analysis\n",
    "5. Training & Tuning using Cloud ML Engine\n",
    "5. Deploying the model\n",
    "6. Predicting with the model"
   ]
  },
  {
   "cell_type": "markdown",
   "metadata": {},
   "source": [
    "### Housekeeping "
   ]
  },
  {
   "cell_type": "code",
   "execution_count": 1,
   "metadata": {},
   "outputs": [
    {
     "name": "stdout",
     "output_type": "stream",
     "text": [
      "tensorboard                                1.9.0      \n",
      "tensorflow                                 1.9.0      \n",
      "tensorflow-hub                             0.1.0      \n",
      "tensorflow-model-analysis                  0.6.0      \n",
      "tensorflow-transform                       0.8.0      \n"
     ]
    }
   ],
   "source": [
    "!pip list | grep 'tensor'"
   ]
  },
  {
   "cell_type": "code",
   "execution_count": 2,
   "metadata": {},
   "outputs": [],
   "source": [
    "import os\n",
    "\n",
    "BUCKET = ''\n",
    "PROJECT = ''\n",
    "REGION = 'us-central1'\n",
    "\n",
    "os.environ['BUCKET'] = BUCKET\n",
    "os.environ['PROJECT'] = PROJECT\n",
    "os.environ['REGION'] = REGION\n",
    "\n",
    "gcs_data_dir = 'gs://{0}/data/babyweight/'.format(BUCKET)\n",
    "gcs_model_dir = 'gs://{0}/models/babyweight/'.format(BUCKET)\n",
    "\n",
    "local_data_dir = 'data/babyweight'\n",
    "local_models_dir= 'models/babyweight'"
   ]
  },
  {
   "cell_type": "code",
   "execution_count": 3,
   "metadata": {},
   "outputs": [
    {
     "name": "stderr",
     "output_type": "stream",
     "text": [
      "CommandException: 1 files/objects could not be removed.\n",
      "CommandException: 1 files/objects could not be removed.\n"
     ]
    }
   ],
   "source": [
    "%%bash\n",
    "\n",
    "gsutil -m rm -rf gs://$BUCKET/models/babyweight/*\n",
    "gsutil -m rm -rf gs://$BUCKET/data/babyweight/big_data/*"
   ]
  },
  {
   "cell_type": "code",
   "execution_count": 5,
   "metadata": {},
   "outputs": [
    {
     "name": "stdout",
     "output_type": "stream",
     "text": [
      "The google.cloud.bigquery extension is already loaded. To reload it, use:\n",
      "  %reload_ext google.cloud.bigquery\n"
     ]
    }
   ],
   "source": [
    "%load_ext google.cloud.bigquery"
   ]
  },
  {
   "cell_type": "code",
   "execution_count": 8,
   "metadata": {},
   "outputs": [
    {
     "data": {
      "text/html": [
       "<div>\n",
       "<style scoped>\n",
       "    .dataframe tbody tr th:only-of-type {\n",
       "        vertical-align: middle;\n",
       "    }\n",
       "\n",
       "    .dataframe tbody tr th {\n",
       "        vertical-align: top;\n",
       "    }\n",
       "\n",
       "    .dataframe thead th {\n",
       "        text-align: right;\n",
       "    }\n",
       "</style>\n",
       "<table border=\"1\" class=\"dataframe\">\n",
       "  <thead>\n",
       "    <tr style=\"text-align: right;\">\n",
       "      <th></th>\n",
       "      <th>name</th>\n",
       "      <th>count</th>\n",
       "    </tr>\n",
       "  </thead>\n",
       "  <tbody>\n",
       "    <tr>\n",
       "      <th>0</th>\n",
       "      <td>James</td>\n",
       "      <td>5001762</td>\n",
       "    </tr>\n",
       "    <tr>\n",
       "      <th>1</th>\n",
       "      <td>John</td>\n",
       "      <td>4875934</td>\n",
       "    </tr>\n",
       "    <tr>\n",
       "      <th>2</th>\n",
       "      <td>Robert</td>\n",
       "      <td>4743843</td>\n",
       "    </tr>\n",
       "  </tbody>\n",
       "</table>\n",
       "</div>"
      ],
      "text/plain": [
       "     name    count\n",
       "0   James  5001762\n",
       "1    John  4875934\n",
       "2  Robert  4743843"
      ]
     },
     "execution_count": 8,
     "metadata": {},
     "output_type": "execute_result"
    }
   ],
   "source": [
    "%%bigquery\n",
    "    SELECT name, SUM(number) as count\n",
    "        FROM `bigquery-public-data.usa_names.usa_1910_current`\n",
    "    GROUP BY name\n",
    "    ORDER BY count DESC\n",
    "    LIMIT 3"
   ]
  },
  {
   "cell_type": "markdown",
   "metadata": {},
   "source": [
    "## 1. Exploring data in BigQuery\n",
    "\n",
    "The data is natality data (record of births in the US). My goal is to predict the baby's weight given a number of factors about the pregnancy and the baby's mother.  Later, we will want to split the data into training and eval datasets. The hash of the year-month will be used for that."
   ]
  },
  {
   "cell_type": "code",
   "execution_count": 7,
   "metadata": {},
   "outputs": [
    {
     "name": "stderr",
     "output_type": "stream",
     "text": [
      "UsageError: unrecognized arguments: --name data\n"
     ]
    }
   ],
   "source": [
    "%%bigquery query --name data\n",
    "\n",
    "SELECT\n",
    "  CAST(mother_race AS string) race_index,\n",
    "  AVG(weight_pounds) avg_weight,\n",
    "  COUNT(weight_pounds) instance_Count\n",
    "FROM\n",
    "  `publicdata.samples.natality`\n",
    "WHERE \n",
    "    year > 2000\n",
    "AND weight_pounds > 0\n",
    "AND mother_age > 0\n",
    "AND plurality > 0\n",
    "AND gestation_weeks > 0\n",
    "AND month > 0\n",
    "AND mother_race is not null\n",
    "GROUP BY\n",
    "  mother_race\n",
    "ORDER BY\n",
    "  avg_weight DESC"
   ]
  },
  {
   "cell_type": "markdown",
   "metadata": {},
   "source": [
    "### Visualise with Datalab commands \n",
    "http://googledatalab.github.io/pydatalab/google.datalab%20Commands.html"
   ]
  },
  {
   "cell_type": "code",
   "execution_count": null,
   "metadata": {},
   "outputs": [],
   "source": [
    "%chart columns --data data --fields race_index,avg_weight\n",
    "title: Mother Race Index vs Average Baby Weight\n",
    "height: 400\n",
    "width: 900\n",
    "hAxis:\n",
    "  title: Race Index\n",
    "vAxis:\n",
    "  title: Average Weight"
   ]
  },
  {
   "cell_type": "markdown",
   "metadata": {},
   "source": [
    "### Fetch data from BigQuery as a pandas dataframe"
   ]
  },
  {
   "cell_type": "code",
   "execution_count": null,
   "metadata": {},
   "outputs": [],
   "source": [
    "data_size = 10000"
   ]
  },
  {
   "cell_type": "code",
   "execution_count": null,
   "metadata": {},
   "outputs": [],
   "source": [
    "%sql --module query \n",
    "\n",
    "SELECT\n",
    "  ROUND(weight_pounds,1) AS weight_pounds,\n",
    "  is_male,\n",
    "  mother_age,\n",
    "  mother_race,\n",
    "  plurality,\n",
    "  gestation_weeks,\n",
    "  mother_married,\n",
    "  cigarette_use,\n",
    "  alcohol_use\n",
    "FROM\n",
    "  `publicdata.samples.natality`\n",
    "WHERE \n",
    "        year > 2000\n",
    "    AND weight_pounds > 0\n",
    "    AND mother_age > 0\n",
    "    AND plurality > 0\n",
    "    AND gestation_weeks > 0\n",
    "    AND month > 0\n",
    "    AND mother_race IS NOT NULL\n",
    "LIMIT $DATA_SIZE"
   ]
  },
  {
   "cell_type": "code",
   "execution_count": null,
   "metadata": {},
   "outputs": [],
   "source": [
    "import datalab.bigquery as bq\n",
    "import sys\n",
    "data = bq.Query(query, DATA_SIZE = data_size).to_dataframe(dialect='standard')\n",
    "print('Row count:{}'.format(len(data)))\n",
    "data.head(5)"
   ]
  },
  {
   "cell_type": "code",
   "execution_count": null,
   "metadata": {},
   "outputs": [],
   "source": [
    "data.describe()"
   ]
  },
  {
   "cell_type": "markdown",
   "metadata": {},
   "source": [
    "### Explore & Visualise"
   ]
  },
  {
   "cell_type": "code",
   "execution_count": null,
   "metadata": {},
   "outputs": [],
   "source": [
    "import seaborn as sns\n",
    "import matplotlib.pyplot as plt\n",
    "import numpy as np\n",
    "%matplotlib inline"
   ]
  },
  {
   "cell_type": "code",
   "execution_count": null,
   "metadata": {},
   "outputs": [],
   "source": [
    "plt.close('all')\n",
    "#plt.figure(figsize=(45, 25))\n",
    "plt.figure(figsize=(30, 15))\n",
    "\n",
    "# Baby Weight Distribution\n",
    "plt.subplot(2,3,1)\n",
    "plt.title(\"Baby Weight Histogram\")\n",
    "plt.hist(data.weight_pounds, bins=150)\n",
    "#plt.axis([0, 50, 0, 3500])\n",
    "plt.xlabel(\"Baby Weight Ranges\")\n",
    "plt.ylabel(\"Frequency\")\n",
    "# ---------------------------\n",
    "\n",
    "# Mother Age vs Baby Weight\n",
    "plt.subplot(2,3,2)\n",
    "plt.title(\"Mother Age vs Baby Weight\")\n",
    "plt.scatter(data.mother_age,data.weight_pounds)\n",
    "plt.xlabel(\"Mother Age\")\n",
    "plt.ylabel(\"Baby Weight\")\n",
    "# ---------------------------\n",
    "\n",
    "# Gestation Weeks vs Baby Weight\n",
    "plt.subplot(2,3,3)\n",
    "fit = np.polyfit(data.gestation_weeks,data.weight_pounds, deg=1)\n",
    "plt.plot(data.gestation_weeks, fit[0] * data.gestation_weeks + fit[1], color='red')\n",
    "plt.scatter(data.gestation_weeks, data.weight_pounds)\n",
    "plt.xlabel(\"Gestation Weeks\")\n",
    "plt.ylabel(\"Baby Weight\")\n",
    "\n",
    "#---------------------------\n",
    "\n",
    "# Is Male vs Baby Weight Boxplot\n",
    "plt.subplot(2,3,4)\n",
    "plt.title(\"Is Male vs Baby Weight\")\n",
    "\n",
    "is_male_values = list(data.is_male.value_counts().index.values)\n",
    "is_male_data = []\n",
    "for i in is_male_values:\n",
    "    is_male_data = is_male_data + [data.weight_pounds[data.is_male == i].values]\n",
    "\n",
    "plt.boxplot(is_male_data)\n",
    "plt.axis([0, 3, 4, 11])\n",
    "plt.xlabel(\"Is Male\")\n",
    "plt.ylabel(\"Baby Weight\")\n",
    "# ---------------------------\n",
    "\n",
    "# Mother Race vs Baby Weight Boxplot\n",
    "plt.subplot(2,3,5)\n",
    "plt.title(\"Mother Race vs Baby Weight\")\n",
    "\n",
    "race_values = list(data.mother_race.value_counts().index.values)\n",
    "race_data = []\n",
    "for i in race_values:\n",
    "    race_data = race_data + [data.weight_pounds[data.mother_race == i].values]\n",
    "\n",
    "plt.boxplot(race_data)\n",
    "plt.axis([0, 16, 4, 11])\n",
    "plt.xlabel(\"Mother Race\")\n",
    "plt.ylabel(\"Baby Weight\")\n",
    "\n",
    "# # ---------------------------\n",
    "\n",
    "plt.subplot(2,3,6)\n",
    "plt.title(\"Alcohol & Cigarette Use\")\n",
    "\n",
    "alch_use_values = list(data.alcohol_use.value_counts().index.values)\n",
    "cig_use_values = list(data.cigarette_use.value_counts().index.values)\n",
    "\n",
    "use_data = []\n",
    "labels = []\n",
    "\n",
    "for i in alch_use_values:\n",
    "    for j in cig_use_values:\n",
    "        labels = labels + ['alch-use:{} & cig-use:{}'.format(i,j)]\n",
    "        condition = (data.alcohol_use == i) & (data.cigarette_use == j)\n",
    "        values = data.weight_pounds[condition].values\n",
    "        if (len(values) > 0):\n",
    "            use_data = use_data + [len(values)]\n",
    "\n",
    "plt.pie(use_data)\n",
    "plt.legend(labels, loc=\"lower center\")\n",
    "\n",
    "plt.show()"
   ]
  },
  {
   "cell_type": "markdown",
   "metadata": {},
   "source": [
    "## Visualise Dataset using Facets - Big Picture\n",
    "visit: https://research.google.com/bigpicture/\n",
    "\n",
    "* Use Stacked with categorical features to test the distribution  If used with numerical features will bucketise them.\n",
    "* Use Scatter with numerical values to test correlations.\n",
    "* Use Facets to slice and dice (vertically and horizontally).\n",
    "* Use colour with the target feature."
   ]
  },
  {
   "cell_type": "code",
   "execution_count": null,
   "metadata": {},
   "outputs": [],
   "source": [
    "from IPython.core.display import display, HTML\n",
    "\n",
    "jsonstr = data.to_json(orient='records')\n",
    "\n",
    "#HTML_TEMPLATE = \"\"\"<link rel=\"import\" href=\"/nbextensions/facets-dist/facets-jupyter.html\">\n",
    "HTML_TEMPLATE = \"\"\"<link rel=\"import\" href=\"/nbextensions/facets-jupyter.html\">\n",
    "        <facets-dive id=\"elem\" height=\"600\"></facets-dive>\n",
    "        <script>\n",
    "          var data = {jsonstr};\n",
    "          document.querySelector(\"#elem\").data = data;\n",
    "        </script>\"\"\"\n",
    "html = HTML_TEMPLATE.format(jsonstr=jsonstr)\n",
    "#display(HTML(html))\n",
    "\n",
    "file = open(\"babyweight-facest.html\",\"w\") \n",
    "file.write(html) \n",
    "file.close() "
   ]
  },
  {
   "cell_type": "code",
   "execution_count": null,
   "metadata": {},
   "outputs": [],
   "source": [
    "%%HTML\n",
    "<iframe width=\"100%\" height=\"600\" src=\"babyweight-facest.html\"></iframe>"
   ]
  }
 ],
 "metadata": {
  "kernelspec": {
   "display_name": "Python 2",
   "language": "python",
   "name": "python2"
  },
  "language_info": {
   "codemirror_mode": {
    "name": "ipython",
    "version": 2
   },
   "file_extension": ".py",
   "mimetype": "text/x-python",
   "name": "python",
   "nbconvert_exporter": "python",
   "pygments_lexer": "ipython2",
   "version": "2.7.14"
  }
 },
 "nbformat": 4,
 "nbformat_minor": 2
}
